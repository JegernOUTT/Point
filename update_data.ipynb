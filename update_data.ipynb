{
 "cells": [
  {
   "cell_type": "code",
   "execution_count": null,
   "metadata": {},
   "outputs": [],
   "source": [
    "import datetime\n",
    "import os\n",
    "import time\n",
    "\n",
    "import pandas as pd\n",
    "\n",
    "from doublegis_api.api import Api2Gis"
   ]
  },
  {
   "cell_type": "code",
   "execution_count": null,
   "metadata": {},
   "outputs": [],
   "source": [
    "api = Api2Gis()\n",
    "api.load()\n",
    "api.describe()"
   ]
  },
  {
   "cell_type": "code",
   "execution_count": null,
   "metadata": {},
   "outputs": [],
   "source": [
    "print()\n",
    "print('Выгрузка новых данных')\n",
    "orgs, fils = api.download_new_data(progress='console')\n",
    "print('Количество новых организаций: {0}'.format(len(orgs)))\n",
    "print('Количество новых филиалов: {0}'.format(len(fils)))"
   ]
  },
  {
   "cell_type": "code",
   "execution_count": null,
   "metadata": {},
   "outputs": [],
   "source": [
    "print()\n",
    "print('Объединение данных')\n",
    "api.merge_data(organizations=orgs, filials=fils)"
   ]
  },
  {
   "cell_type": "code",
   "execution_count": null,
   "metadata": {},
   "outputs": [],
   "source": [
    "print()\n",
    "print('Обновление дат всех филиалов')\n",
    "api.update_filials_dates(progress='console')"
   ]
  },
  {
   "cell_type": "code",
   "execution_count": null,
   "metadata": {
    "collapsed": true
   },
   "outputs": [],
   "source": [
    "print()\n",
    "print('Выгрузка всех ненайденных филиалов')\n",
    "filials_not_found = []\n",
    "checked_filials = list(filter(lambda x: x.closed_at_json['2gis_removed_at'] != '', api.filials))\n",
    "for f in checked_filials:\n",
    "    org = next(o for o in api.organizations if o.id == f.organization_id)\n",
    "    filials_not_found.append({'filial_id': str(f.doublegis_id),\n",
    "                              'organization_id': str(org.id),\n",
    "                              'name': org.name,\n",
    "                              'address': '{0}, {1}'.format(f.street_name, f.house),\n",
    "                              'lon': f.longitude, 'lat': f.latitude,\n",
    "                              'created_at': f.created_at_json['2gis_appear_at'],\n",
    "                              'updated_at': f.updated_at_json['2gis_updated_at'],\n",
    "                              'closed_at_json': f.closed_at_json['2gis_removed_at']})\n",
    "if not os.path.exists('data/files/not_found_filials/'):\n",
    "    os.makedirs('data/files/not_found_filials/')\n",
    "pd.DataFrame(data=filials_not_found).to_excel('data/files/not_found_filials/not_found_filials_at_{0}.xlsx'\n",
    "                                              .format(datetime.datetime.now().strftime('%Y_%m_%d-%H_%M_%S ')))"
   ]
  },
  {
   "cell_type": "code",
   "execution_count": null,
   "metadata": {
    "collapsed": true
   },
   "outputs": [],
   "source": [
    "print()\n",
    "print('Сохранение данных')\n",
    "api.save()"
   ]
  }
 ],
 "metadata": {
  "kernelspec": {
   "display_name": "Python 3",
   "language": "python",
   "name": "python3"
  },
  "language_info": {
   "codemirror_mode": {
    "name": "ipython",
    "version": 3
   },
   "file_extension": ".py",
   "mimetype": "text/x-python",
   "name": "python",
   "nbconvert_exporter": "python",
   "pygments_lexer": "ipython3",
   "version": "3.5.2"
  }
 },
 "nbformat": 4,
 "nbformat_minor": 1
}
