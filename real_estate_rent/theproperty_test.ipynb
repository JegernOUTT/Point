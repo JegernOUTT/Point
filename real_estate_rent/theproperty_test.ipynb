{
 "cells": [
  {
   "cell_type": "code",
   "execution_count": 1,
   "metadata": {},
   "outputs": [],
   "source": [
    "import sys\n",
    "sys.path.append(\"/home/svakhreev/PycharmProjects/Point/\")\n",
    "from theproperty_ru import TheProperty_Ru"
   ]
  },
  {
   "cell_type": "code",
   "execution_count": 2,
   "metadata": {},
   "outputs": [
    {
     "name": "stdout",
     "output_type": "stream",
     "text": [
      "Add office page: 1\n",
      "Add office page: 2\n",
      "Add office page: 3\n",
      "Add office page: 4\n",
      "Add office page: 5\n",
      "Add torgovye page: 1\n",
      "Add kafe page: 1\n",
      "Add warehouse page: 1\n",
      "Add warehouse page: 2\n",
      "Add building page: 1\n"
     ]
    }
   ],
   "source": [
    "prop = TheProperty_Ru()\n",
    "raw_estates = prop.load_raw_estates()"
   ]
  },
  {
   "cell_type": "code",
   "execution_count": 7,
   "metadata": {
    "collapsed": true
   },
   "outputs": [],
   "source": [
    "import html5lib\n",
    "import requests\n",
    "from utility.safe_request import safe_request"
   ]
  },
  {
   "cell_type": "code",
   "execution_count": 153,
   "metadata": {},
   "outputs": [
    {
     "data": {
      "text/plain": [
       "28066"
      ]
     },
     "execution_count": 153,
     "metadata": {},
     "output_type": "execute_result"
    }
   ],
   "source": [
    "len(raw_estates)"
   ]
  },
  {
   "cell_type": "code",
   "execution_count": 50,
   "metadata": {},
   "outputs": [],
   "source": [
    "from lxml import html\n",
    "\n",
    "session = requests.Session()\n",
    "r = safe_request(session=session,\n",
    "                 url='{0}/{1}'.format(prop.url, raw_estates[0]['id']))\n",
    "tree = html.fromstring(r.text)"
   ]
  },
  {
   "cell_type": "code",
   "execution_count": 55,
   "metadata": {},
   "outputs": [
    {
     "data": {
      "text/plain": [
       "[]"
      ]
     },
     "execution_count": 55,
     "metadata": {},
     "output_type": "execute_result"
    }
   ],
   "source": [
    "[td.text for td in tree.xpath(\"wrapper\")]"
   ]
  },
  {
   "cell_type": "code",
   "execution_count": 134,
   "metadata": {},
   "outputs": [],
   "source": [
    "fldst_object_address = tree.find_class('fldst-object-address')[0]\n",
    "name, address = el[1][0].text.split(' — ')\n",
    "address_splitted = address.split(', ')\n",
    "if len(address_splitted) == 3:\n",
    "    address = [a.replace('д. ', '') for a in address_splitted[:-1]]"
   ]
  },
  {
   "cell_type": "code",
   "execution_count": 156,
   "metadata": {},
   "outputs": [],
   "source": [
    "fldst_object_price = tree.find_class('fldst-object-price')[0]\n",
    "fldst_object_price_ = fldst_object_price[1][0]\n",
    "assert 'inpDiv' in fldst_object_price_.classes\n",
    "price_meter_in_month = next(c for c in fldst_object_price_.find_class('descr'))[0].text\n",
    "price_meter_in_month = int(''.join(list(filter(str.isdigit, price_meter_in_month))))"
   ]
  },
  {
   "cell_type": "code",
   "execution_count": 214,
   "metadata": {},
   "outputs": [],
   "source": [
    "text_info = tree.find_class('text-info')[0]"
   ]
  },
  {
   "cell_type": "code",
   "execution_count": 232,
   "metadata": {},
   "outputs": [],
   "source": [
    "a  = text_info[0]"
   ]
  },
  {
   "cell_type": "code",
   "execution_count": 238,
   "metadata": {},
   "outputs": [
    {
     "data": {
      "text/plain": [
       "'Площадь'"
      ]
     },
     "execution_count": 238,
     "metadata": {},
     "output_type": "execute_result"
    }
   ],
   "source": [
    "a[6].text"
   ]
  },
  {
   "cell_type": "code",
   "execution_count": null,
   "metadata": {
    "collapsed": true
   },
   "outputs": [],
   "source": [
    ""
   ]
  }
 ],
 "metadata": {
  "kernelspec": {
   "display_name": "Python 3",
   "language": "python",
   "name": "python3"
  },
  "language_info": {
   "codemirror_mode": {
    "name": "ipython",
    "version": 3.0
   },
   "file_extension": ".py",
   "mimetype": "text/x-python",
   "name": "python",
   "nbconvert_exporter": "python",
   "pygments_lexer": "ipython3",
   "version": "3.5.2"
  }
 },
 "nbformat": 4,
 "nbformat_minor": 0
}
