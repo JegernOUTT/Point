{
 "cells": [
  {
   "cell_type": "code",
   "execution_count": 1,
   "metadata": {
    "collapsed": true
   },
   "outputs": [],
   "source": [
    "import time\n",
    "\n",
    "from doublegis_api.api import Api2Gis\n",
    "from export.excel_export import export_excel\n",
    "from filtering.categories import get_filter_cats_ids, filter_by_categories"
   ]
  },
  {
   "cell_type": "code",
   "execution_count": 2,
   "metadata": {},
   "outputs": [
    {
     "name": "stdout",
     "output_type": "stream",
     "text": [
      "Регион: Санкт-Петербург\n",
      "Количество рубрик: 27\n",
      "Количество смежных рубрик: 1326\n",
      "Количество станций метро: 66\n",
      "Количество зданий: 52539\n",
      "Количество организаций: 104118\n",
      "Количество филиалов: 156060\n"
     ]
    }
   ],
   "source": [
    "api = Api2Gis()\n",
    "api.load()\n",
    "api.describe()"
   ]
  },
  {
   "cell_type": "code",
   "execution_count": 3,
   "metadata": {},
   "outputs": [
    {
     "name": "stdout",
     "output_type": "stream",
     "text": [
      "\n",
      "Фильтрация филиалов\n",
      "Количество филиалов до фильтрации: 156060\n",
      "Для фильтрации найдены 1 категорий и 89 подкатегорий\n"
     ]
    },
    {
     "data": {},
     "metadata": {},
     "output_type": "display_data"
    },
    {
     "name": "stdout",
     "output_type": "stream",
     "text": [
      "Количество филиалов после фильтрации: 154104\n"
     ]
    }
   ],
   "source": [
    "print()\n",
    "print('Фильтрация филиалов')\n",
    "print('Количество филиалов до фильтрации: {0}'.format(len(api.filials)))\n",
    "main, sub = get_filter_cats_ids(api.rubrics, api.sub_rubrics)\n",
    "print('Для фильтрации найдены {0} категорий и {1} подкатегорий'.format(len(main), len(sub)))\n",
    "api.filials = filter_by_categories(api.filials, api.organizations, main, sub, progress='ipython')\n",
    "print('Количество филиалов после фильтрации: {0}'.format(len(api.filials)))"
   ]
  },
  {
   "cell_type": "code",
   "execution_count": 5,
   "metadata": {},
   "outputs": [
    {
     "name": "stdout",
     "output_type": "stream",
     "text": [
      "\n",
      "Экспорт филиалов\n"
     ]
    },
    {
     "data": {},
     "metadata": {},
     "output_type": "display_data"
    },
    {
     "name": "stdout",
     "output_type": "stream",
     "text": [
      "Экспорт завершён\n"
     ]
    }
   ],
   "source": [
    "print()\n",
    "print('Экспорт филиалов')\n",
    "export_excel(api, progress='ipython')\n",
    "print('Экспорт завершён')"
   ]
  },
  {
   "cell_type": "code",
   "execution_count": null,
   "metadata": {
    "collapsed": true
   },
   "outputs": [],
   "source": [
    ""
   ]
  }
 ],
 "metadata": {
  "kernelspec": {
   "display_name": "Python 3",
   "language": "python",
   "name": "python3"
  },
  "language_info": {
   "codemirror_mode": {
    "name": "ipython",
    "version": 3.0
   },
   "file_extension": ".py",
   "mimetype": "text/x-python",
   "name": "python",
   "nbconvert_exporter": "python",
   "pygments_lexer": "ipython3",
   "version": "3.5.2"
  }
 },
 "nbformat": 4,
 "nbformat_minor": 0
}