{
 "cells": [
  {
   "cell_type": "code",
   "execution_count": null,
   "metadata": {
    "collapsed": false
   },
   "outputs": [],
   "source": [
    "import os\n",
    "import pandas as pd\n",
    "import numpy as np\n",
    "from functools import reduce"
   ]
  },
  {
   "cell_type": "code",
   "execution_count": 2,
   "metadata": {},
   "outputs": [
    {
     "data": {
      "text/plain": [
       "1524"
      ]
     },
     "execution_count": 2,
     "metadata": {},
     "output_type": "execute_result"
    }
   ],
   "source": [
    "import sys\n",
    "import requests\n",
    "\n",
    "\n",
    "with open('removed_organizations', 'rb') as f:\n",
    "    ids = np.load(f)\n",
    "ids.shape[0]"
   ]
  },
  {
   "cell_type": "code",
   "execution_count": 3,
   "metadata": {
    "collapsed": true
   },
   "outputs": [],
   "source": [
    "import sys\n",
    "import threading\n",
    "\n",
    "import multiprocessing\n",
    "import requests\n",
    "from multiprocessing.pool import ThreadPool, Pool\n",
    "from utility.distance import distance\n",
    "\n",
    "\n",
    "def request(session, **kwargs):\n",
    "    while True:\n",
    "        try:\n",
    "            r = session.get(**kwargs, timeout=3)\n",
    "            if r.status_code in {200, 404, 410}:\n",
    "                return r\n",
    "            else:\n",
    "                continue\n",
    "        except Exception as e:\n",
    "            continue\n",
    "\n",
    "\n",
    "def get_some(ids_range, same):\n",
    "    with open('removed/ids_{0}.txt'.format(multiprocessing.current_process().pid), 'w') as f:\n",
    "        pass\n",
    "    \n",
    "    session = requests.Session()\n",
    "    for fil in ids_range:\n",
    "        if fil in same:\n",
    "            continue\n",
    "        r = request(session=session,\n",
    "                    url='https://2gis.ru/spb/firm/{0}'.format(fil))\n",
    "        if r.status_code == 410:\n",
    "            with open('removed/ids_{0}.txt'.format(multiprocessing.current_process().pid), 'a') as f:\n",
    "                f.write('{0}\\n'.format(fil))\n",
    "\n",
    "\n",
    "def get_some_parallel(r, same):\n",
    "    chunk_size = len(r) // 100\n",
    "    pool = Pool(processes=100)\n",
    "    results = [pool.apply_async(get_some, (r[chunk_size * i:chunk_size * (i + 1)], same))\n",
    "               for i in range(100)]\n",
    "    for async in results:\n",
    "        async.get()\n",
    "\n",
    "r = list(range(70000001010000000, 70000001029999999))\n",
    "r += list(range(5348552830000000, 5348552849999999))\n",
    "print('All id count: {0}'.format(len(r)))\n",
    "get_some_parallel(r, ids)"
   ]
  },
  {
   "cell_type": "code",
   "execution_count": null,
   "metadata": {},
   "outputs": [],
   "source": [
    "with open('removed_organizations', 'wb') as f:\n",
    "    np.save(f, all_indexes)"
   ]
  }
 ],
 "metadata": {
  "kernelspec": {
   "display_name": "Python 3",
   "language": "python",
   "name": "python3"
  },
  "language_info": {
   "codemirror_mode": {
    "name": "ipython",
    "version": 3.0
   },
   "file_extension": ".py",
   "mimetype": "text/x-python",
   "name": "python",
   "nbconvert_exporter": "python",
   "pygments_lexer": "ipython3",
   "version": "3.5.2"
  }
 },
 "nbformat": 4,
 "nbformat_minor": 0
}