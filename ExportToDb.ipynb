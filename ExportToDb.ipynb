{
 "cells": [
  {
   "cell_type": "code",
   "execution_count": 1,
   "metadata": {},
   "outputs": [
    {
     "name": "stdout",
     "output_type": "stream",
     "text": [
      "Регион: Санкт-Петербург\n",
      "Количество рубрик: 27\n",
      "Количество смежных рубрик: 1332\n",
      "Количество станций метро: 67\n",
      "Количество зданий: 52559\n",
      "Количество организаций: 108962\n",
      "Количество филиалов: 164955\n"
     ]
    }
   ],
   "source": [
    "import numpy as np\n",
    "\n",
    "from doublegis_api.api import Api2Gis\n",
    "\n",
    "api = Api2Gis()\n",
    "api.load()\n",
    "api.describe()"
   ]
  },
  {
   "cell_type": "code",
   "execution_count": 2,
   "metadata": {
    "collapsed": true
   },
   "outputs": [],
   "source": [
    "import mysql.connector\n",
    "from mysql.connector import errorcode\n",
    "\n",
    "config = {\n",
    "  'user': 'infotochka_db',\n",
    "  'password': 'r8BSa81T',\n",
    "  'host': '185.5.250.80',\n",
    "  'database': 'infotochka_db',\n",
    "  'raise_on_warnings': True,\n",
    "}\n",
    "\n",
    "def connect():\n",
    "    try:\n",
    "        cnx = mysql.connector.connect(**config)\n",
    "        cursor = cnx.cursor()\n",
    "        return cnx, cursor\n",
    "    except mysql.connector.Error as err:\n",
    "        if err.errno == errorcode.ER_ACCESS_DENIED_ERROR:\n",
    "            print(\"Something is wrong with your user name or password\")\n",
    "        elif err.errno == errorcode.ER_BAD_DB_ERROR:\n",
    "            print(\"Database does not exist\")\n",
    "        else:\n",
    "            print(err)"
   ]
  },
  {
   "cell_type": "code",
   "execution_count": 21,
   "metadata": {},
   "outputs": [],
   "source": [
    "categories = []\n",
    "\n",
    "cnx, cursor = connect()\n",
    "try:\n",
    "    cursor.execute('SELECT * FROM `category`')\n",
    "    for data in cursor:\n",
    "        categories.append({'id': data[0], 'name': data[1]})\n",
    "except mysql.connector.Error as err:\n",
    "    print(\"Failed creating database: {}\".format(err))"
   ]
  },
  {
   "cell_type": "code",
   "execution_count": 22,
   "metadata": {},
   "outputs": [
    {
     "data": {
      "text/plain": [
       "{5348144816586754: 2,\n",
       " 5348144816586755: 5,\n",
       " 5348144816586756: 6,\n",
       " 5348144816586757: 8,\n",
       " 5348144816586758: 9,\n",
       " 5348144816586759: 12,\n",
       " 5348144816586760: 13,\n",
       " 5348144816586761: 15,\n",
       " 5348144816586762: 4,\n",
       " 5348144816586763: 20,\n",
       " 5348144816586764: 19,\n",
       " 5348144816586766: 11,\n",
       " 5348144816587498: 17,\n",
       " 5348144816587539: 7,\n",
       " 5348144816587721: 21,\n",
       " 5348144816587787: 10,\n",
       " 5348144816593299: 18,\n",
       " 5348144816606284: 3,\n",
       " 5348144816629619: 14,\n",
       " 5348144816629624: 16,\n",
       " 5348144816629655: 1}"
      ]
     },
     "execution_count": 22,
     "metadata": {},
     "output_type": "execute_result"
    }
   ],
   "source": [
    "# Мэппинг категорий по имени (началу имени)\n",
    "# get_db_id_by_api_category_id = dict()\n",
    "# for r in api.rubrics:\n",
    "#     try:\n",
    "#         cat = next((rr for rr in categories if r.name.startswith(rr['name'])))\n",
    "#     except:\n",
    "#         continue\n",
    "#     get_db_id_by_api_category_id[r.id] = cat['id']\n",
    "# get_db_id_by_api_category_id\n",
    "get_db_id_by_api_category_id = \n",
    "{\n",
    "    5348144816586754: 2,\n",
    "    5348144816586755: 5,\n",
    "    5348144816586756: 6,\n",
    "    5348144816586757: 8,\n",
    "    5348144816586758: 9,\n",
    "    5348144816586759: 12,\n",
    "    5348144816586760: 13,\n",
    "    5348144816586761: 15,\n",
    "    5348144816586762: 4,\n",
    "    5348144816586763: 20,\n",
    "    5348144816586764: 19,\n",
    "    5348144816586766: 11,\n",
    "    5348144816587498: 17,\n",
    "    5348144816587539: 7,\n",
    "    5348144816587721: 21,\n",
    "    5348144816587787: 10,\n",
    "    5348144816593299: 18,\n",
    "    5348144816606284: 3,\n",
    "    5348144816629619: 14,\n",
    "    5348144816629624: 16,\n",
    "    5348144816629655: 1\n",
    "}"
   ]
  },
  {
   "cell_type": "code",
   "execution_count": 23,
   "metadata": {
    "collapsed": true
   },
   "outputs": [],
   "source": [
    "stations = []\n",
    "\n",
    "cnx, cursor = connect()\n",
    "try:\n",
    "    cursor.execute('SELECT * FROM `metro`')\n",
    "    for data in cursor:\n",
    "        stations.append({'id': data[1], 'name': data[2]})\n",
    "except mysql.connector.Error as err:\n",
    "    print(\"Failed creating database: {}\".format(err))"
   ]
  },
  {
   "cell_type": "code",
   "execution_count": 24,
   "metadata": {
    "collapsed": true
   },
   "outputs": [],
   "source": [
    "metros_api = {m.name.lower().replace(' ', ''): m for m in api.metro_stations}\n",
    "metros_api_by_id = {m.id: m for m in api.metro_stations}\n",
    "\n",
    "\n",
    "updates_stations = []\n",
    "for s in stations:\n",
    "    ss = s\n",
    "    metro = next((m[1] for m in metros_api.items() \n",
    "                  if s['name'].lower().replace(' ', '') in m[0]),\n",
    "                 None)\n",
    "    if metro is None:\n",
    "        continue\n",
    "    \n",
    "    ss['2gis_id'] = metro.id\n",
    "    updates_stations.append({'name': metro.name, 'data': ss})\n",
    "    \n",
    "updates_stations.append({\n",
    "    'name': 'Площадь Александра Невского-1',\n",
    "    'data': {'2gis_id': 5348810536520958, 'id': 41, 'name': 'Площадь Александра Невского'}\n",
    "})\n",
    "\n",
    "\n",
    "def get_db_id_by_name(name):\n",
    "    try:\n",
    "        return next(s['data']['id'] for s in updates_stations if s['name'] == name)\n",
    "    except:\n",
    "        print(name)\n",
    "        raise\n",
    "def get_distances_with_sep(filial):\n",
    "    distances = []\n",
    "    for s in updates_stations:\n",
    "        station_2gisid = s['data']['2gis_id']\n",
    "        d = filial.metro_distances_json[station_2gisid]\n",
    "        distances.append('{0:.2f}'.format(d / 1000))\n",
    "    return '|'.join(distances)"
   ]
  },
  {
   "cell_type": "code",
   "execution_count": 25,
   "metadata": {
    "collapsed": true
   },
   "outputs": [],
   "source": [
    "filials = api.filials\n",
    "# filials = np.array([f for f in filials if f.created_at_json['2gis_appear_at'] != ''])"
   ]
  },
  {
   "cell_type": "code",
   "execution_count": 26,
   "metadata": {
    "scrolled": true
   },
   "outputs": [
    {
     "name": "stdout",
     "output_type": "stream",
     "text": [
      "\n",
      "Фильтрация филиалов по категориям\n",
      "Количество филиалов до фильтрации: 164955\n",
      "Для фильтрации найдены 6 категорий и 585 подкатегорий\n"
     ]
    },
    {
     "data": {
      "application/vnd.jupyter.widget-view+json": {
       "model_id": "08bf518b329d45d4a98e0b9858001974"
      }
     },
     "metadata": {},
     "output_type": "display_data"
    },
    {
     "name": "stderr",
     "output_type": "stream",
     "text": [
      "IOPub message rate exceeded.\n",
      "The notebook server will temporarily stop sending output\n",
      "to the client in order to avoid crashing it.\n",
      "To change this limit, set the config variable\n",
      "`--NotebookApp.iopub_msg_rate_limit`.\n",
      "IOPub message rate exceeded.\n",
      "The notebook server will temporarily stop sending output\n",
      "to the client in order to avoid crashing it.\n",
      "To change this limit, set the config variable\n",
      "`--NotebookApp.iopub_msg_rate_limit`.\n",
      "IOPub message rate exceeded.\n",
      "The notebook server will temporarily stop sending output\n",
      "to the client in order to avoid crashing it.\n",
      "To change this limit, set the config variable\n",
      "`--NotebookApp.iopub_msg_rate_limit`.\n",
      "IOPub message rate exceeded.\n",
      "The notebook server will temporarily stop sending output\n",
      "to the client in order to avoid crashing it.\n",
      "To change this limit, set the config variable\n",
      "`--NotebookApp.iopub_msg_rate_limit`.\n",
      "IOPub message rate exceeded.\n",
      "The notebook server will temporarily stop sending output\n",
      "to the client in order to avoid crashing it.\n",
      "To change this limit, set the config variable\n",
      "`--NotebookApp.iopub_msg_rate_limit`.\n",
      "IOPub message rate exceeded.\n",
      "The notebook server will temporarily stop sending output\n",
      "to the client in order to avoid crashing it.\n",
      "To change this limit, set the config variable\n",
      "`--NotebookApp.iopub_msg_rate_limit`.\n",
      "IOPub message rate exceeded.\n",
      "The notebook server will temporarily stop sending output\n",
      "to the client in order to avoid crashing it.\n",
      "To change this limit, set the config variable\n",
      "`--NotebookApp.iopub_msg_rate_limit`.\n",
      "IOPub message rate exceeded.\n",
      "The notebook server will temporarily stop sending output\n",
      "to the client in order to avoid crashing it.\n",
      "To change this limit, set the config variable\n",
      "`--NotebookApp.iopub_msg_rate_limit`.\n"
     ]
    },
    {
     "name": "stdout",
     "output_type": "stream",
     "text": [
      "Количество филиалов после фильтрации: 106034\n",
      "\n",
      "Фильтрация филиалов по стоп словам\n",
      "Количество филиалов до фильтрации: 106034\n",
      "Для фильтрации найдены стоп слова: ['институт', 'банкомат', 'клиника', 'рынок']\n"
     ]
    },
    {
     "data": {
      "application/vnd.jupyter.widget-view+json": {
       "model_id": "85ff95fc35fd4d7a9a36f6de0be5ae22"
      }
     },
     "metadata": {},
     "output_type": "display_data"
    },
    {
     "name": "stderr",
     "output_type": "stream",
     "text": [
      "IOPub message rate exceeded.\n",
      "The notebook server will temporarily stop sending output\n",
      "to the client in order to avoid crashing it.\n",
      "To change this limit, set the config variable\n",
      "`--NotebookApp.iopub_msg_rate_limit`.\n",
      "IOPub message rate exceeded.\n",
      "The notebook server will temporarily stop sending output\n",
      "to the client in order to avoid crashing it.\n",
      "To change this limit, set the config variable\n",
      "`--NotebookApp.iopub_msg_rate_limit`.\n",
      "IOPub message rate exceeded.\n",
      "The notebook server will temporarily stop sending output\n",
      "to the client in order to avoid crashing it.\n",
      "To change this limit, set the config variable\n",
      "`--NotebookApp.iopub_msg_rate_limit`.\n",
      "IOPub message rate exceeded.\n",
      "The notebook server will temporarily stop sending output\n",
      "to the client in order to avoid crashing it.\n",
      "To change this limit, set the config variable\n",
      "`--NotebookApp.iopub_msg_rate_limit`.\n",
      "IOPub message rate exceeded.\n",
      "The notebook server will temporarily stop sending output\n",
      "to the client in order to avoid crashing it.\n",
      "To change this limit, set the config variable\n",
      "`--NotebookApp.iopub_msg_rate_limit`.\n",
      "IOPub message rate exceeded.\n",
      "The notebook server will temporarily stop sending output\n",
      "to the client in order to avoid crashing it.\n",
      "To change this limit, set the config variable\n",
      "`--NotebookApp.iopub_msg_rate_limit`.\n"
     ]
    },
    {
     "name": "stdout",
     "output_type": "stream",
     "text": [
      "Количество филиалов после фильтрации: 101205\n"
     ]
    }
   ],
   "source": [
    "from filtering.categories import get_filter_cats_ids, filter_by_categories\n",
    "from filtering.stop_words import get_stop_words, filter_by_stop_words\n",
    "\n",
    "print()\n",
    "print('Фильтрация филиалов по категориям')\n",
    "print('Количество филиалов до фильтрации: {0}'.format(len(filials)))\n",
    "main, sub = get_filter_cats_ids(api.rubrics, api.sub_rubrics)\n",
    "print('Для фильтрации найдены {0} категорий и {1} подкатегорий'.format(len(main), len(sub)))\n",
    "filials = filter_by_categories(filials, api.organizations, main, sub, progress='ipython')\n",
    "print('Количество филиалов после фильтрации: {0}'.format(len(filials)))\n",
    "\n",
    "print()\n",
    "print('Фильтрация филиалов по стоп словам')\n",
    "print('Количество филиалов до фильтрации: {0}'.format(len(filials)))\n",
    "stop_words = get_stop_words()\n",
    "print('Для фильтрации найдены стоп слова: {}'.format(stop_words))\n",
    "filials = filter_by_stop_words(filials, api.organizations, stop_words, progress='ipython')\n",
    "print('Количество филиалов после фильтрации: {0}'.format(len(filials)))"
   ]
  },
  {
   "cell_type": "code",
   "execution_count": 27,
   "metadata": {},
   "outputs": [
    {
     "data": {
      "application/vnd.jupyter.widget-view+json": {
       "model_id": "b0d84f7d8a6e4c748a1fec8ec6e2bc1c"
      }
     },
     "metadata": {},
     "output_type": "display_data"
    },
    {
     "name": "stdout",
     "output_type": "stream",
     "text": [
      "Записано 61625 филиалов\n"
     ]
    }
   ],
   "source": [
    "from export.excel_export import _process_element\n",
    "from utility.ipython_utility import log_progress\n",
    "import datetime\n",
    "import dateutil.parser\n",
    "\n",
    "table_name = 'base'\n",
    "cnx, cursor = connect()\n",
    "cursor.execute('TRUNCATE TABLE `{0}`'.format(table_name))\n",
    "add_base = (\"INSERT INTO {0} \"\n",
    "            \"(company, city, address, phone, phone_mob, email, site, cat, depart, \"\n",
    "            \"lat, lng, val, val_min, metro, year, month, life, lastmod, category, del, 2gis_id, \"\n",
    "            \"created_at, closed_at) \"\n",
    "            \"VALUES (%(company)s, %(city)s, %(address)s, %(phone)s, %(phone_mob)s, %(email)s,\"\n",
    "            \"%(site)s, %(cat)s, %(depart)s, %(lat)s, %(lng)s, %(val)s, %(val_min)s,\"\n",
    "            \"%(metro)s, %(year)s, %(month)s, %(life)s, %(lastmod)s, %(category)s, \"\n",
    "            \"%(del)s, %(2gis_id)s, %(created_at)s, %(closed_at)s)\".format(table_name))\n",
    "\n",
    "identifier = 1\n",
    "db_filials = {}\n",
    "for i, filial in enumerate(log_progress(filials, name='Филиалы')):\n",
    "    row = _process_element(api, filial)\n",
    "    if row is not None:\n",
    "        if filial.closed_at_json['2gis_removed_at'] != '':\n",
    "            closed_time = dateutil.parser.parse(\n",
    "                filial.closed_at_json['2gis_removed_at']).replace(tzinfo=None)\n",
    "        else:\n",
    "            closed_time = None\n",
    "            \n",
    "        if filial.created_at_json['2gis_appear_at'] != '':\n",
    "            created_time = dateutil.parser.parse(\n",
    "                filial.created_at_json['2gis_appear_at']).replace(tzinfo=None)\n",
    "        else:\n",
    "            created_time = None\n",
    "            \n",
    "        org = next(o for o in api.organizations if o.id == filial.organization_id)\n",
    "\n",
    "#       Если категории нет, пропускаю точку\n",
    "        if len(org.main_rubrics['doublegis_rubrics_ids']) == 0:\n",
    "            continue\n",
    "        row_dict = {\n",
    "            'show': 1,\n",
    "            'company': row[1],\n",
    "            'city': 1,\n",
    "            'address': row[2],\n",
    "            'phone': '',\n",
    "            'phone_mob': '',\n",
    "            'email': '',\n",
    "            'site': '',\n",
    "            'cat': row[0],\n",
    "            'depart': '',\n",
    "            'lat': str(row[3]),\n",
    "            'lng': str(row[4]),\n",
    "            'val': get_distances_with_sep(filial),\n",
    "            'val_min': str(row[8]),\n",
    "            'metro': get_db_id_by_name(row[5]),\n",
    "            'year': closed_time.year if closed_time is not None else datetime.datetime.today().year,\n",
    "            'month': closed_time.month if closed_time is not None else datetime.datetime.today().month,\n",
    "            'life': row[11] if row[11] is not None else 0,\n",
    "            'lastmod': datetime.datetime.today(),\n",
    "            'category': get_db_id_by_api_category_id[org.main_rubrics['doublegis_rubrics_ids'][0]],\n",
    "            'del': 0,\n",
    "            '2gis_id': filial.doublegis_id,\n",
    "            'created_at': created_time,\n",
    "            'closed_at': closed_time\n",
    "        }\n",
    "        db_filials[identifier] = filial\n",
    "        cursor.execute(add_base, row_dict)\n",
    "        cnx.commit()\n",
    "        identifier += 1\n",
    "\n",
    "cursor.close()\n",
    "cnx.close()\n",
    "print('Записано {} филиалов'.format(identifier - 1))"
   ]
  },
  {
   "cell_type": "code",
   "execution_count": 10,
   "metadata": {
    "collapsed": true
   },
   "outputs": [],
   "source": [
    "import itertools\n",
    "from dateutil.relativedelta import relativedelta\n",
    "\n",
    "def date_generator(month_range):\n",
    "    from_date = datetime.datetime.today()\n",
    "    while True:\n",
    "        yield from_date\n",
    "        from_date = from_date - relativedelta(months=month_range)\n",
    "        \n",
    "dates = list(itertools.islice(date_generator(3), 80))"
   ]
  },
  {
   "cell_type": "code",
   "execution_count": 11,
   "metadata": {},
   "outputs": [
    {
     "name": "stderr",
     "output_type": "stream",
     "text": [
      "Widget Javascript not detected.  It may not be installed or enabled properly.\n"
     ]
    },
    {
     "data": {},
     "metadata": {},
     "output_type": "display_data"
    }
   ],
   "source": [
    "cnx, cursor = connect()\n",
    "cursor.execute('TRUNCATE TABLE `base_date_copy`')\n",
    "add_base = (\"INSERT INTO base_date_copy \"\n",
    "            \"(base, year, month, lastmod, kon1, kon2, kon3, kon4) \"\n",
    "            \"VALUES (%(base)s, %(year)s, %(month)s, %(lastmod)s, \"\n",
    "            \"%(kon1)s, %(kon2)s, %(kon3)s, %(kon4)s)\")\n",
    "\n",
    "\n",
    "for date in log_progress(dates, every=1):\n",
    "    for i, filial in db_filials.items():\n",
    "        created_at = dateutil.parser.parse(\n",
    "            filial.created_at_json['2gis_appear_at']).replace(tzinfo=None)\n",
    "        \n",
    "        if created_at > date:\n",
    "#           Филиал открылся позже чем рассматриваемая дата\n",
    "            continue\n",
    "    \n",
    "        if filial.closed_at_json['2gis_removed_at'] != '':\n",
    "            removed_at = dateutil.parser.parse(\n",
    "                filial.closed_at_json['2gis_removed_at']).replace(tzinfo=None)\n",
    "            if removed_at < date:\n",
    "#               Филиал закрылся раньше, чем рассматриваемая дата\n",
    "                continue\n",
    "            \n",
    "        row_dict = {\n",
    "            'base': i,\n",
    "            'year': date.year,\n",
    "            'month': date.month,\n",
    "            'lastmod': datetime.datetime.today(),\n",
    "            'kon1': '',\n",
    "            'kon2': '',\n",
    "            'kon3': '',\n",
    "            'kon4': ''\n",
    "        }\n",
    "        \n",
    "        cursor.execute(add_base, row_dict)\n",
    "        cnx.commit()\n",
    "cursor.close()\n",
    "cnx.close()"
   ]
  },
  {
   "cell_type": "code",
   "execution_count": null,
   "metadata": {
    "collapsed": true
   },
   "outputs": [],
   "source": []
  }
 ],
 "metadata": {
  "kernelspec": {
   "display_name": "Python 3",
   "language": "python",
   "name": "python3"
  },
  "language_info": {
   "codemirror_mode": {
    "name": "ipython",
    "version": 3
   },
   "file_extension": ".py",
   "mimetype": "text/x-python",
   "name": "python",
   "nbconvert_exporter": "python",
   "pygments_lexer": "ipython3",
   "version": "3.5.2"
  }
 },
 "nbformat": 4,
 "nbformat_minor": 1
}
